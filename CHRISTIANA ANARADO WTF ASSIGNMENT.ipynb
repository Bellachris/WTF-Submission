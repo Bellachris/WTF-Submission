{
 "cells": [
  {
   "cell_type": "markdown",
   "id": "848e0f84",
   "metadata": {},
   "source": [
    "#### PERSONAL WORK\n",
    "1) Print all elements of a list using for loop.\n",
    "\n",
    "2) Using range(1,101), make two list, one containing all even numbers and other containing all odd numbers.\n",
    "\n",
    "3) A company decided to give bonus of 5% to employee if his/her year of service is more than 5 years. Ask user for their salary and year of service and print the net bonus amount.\n",
    "\n",
    "4) Take input of age of 3 people by user and determine oldest and youngest among them.\n",
    "\n",
    "5) A school has following rules for grading system:a. Below 25 -Fb. 25 to 45 -Ec. 45 to 50 -Dd. 50 to 60 -Ce. 60 to 80 -Bf. Above 80 -A\n",
    "\n",
    "6) Write a Python script to merge two Python dictionaries\n",
    "\n",
    "7) Write a Python program to remove a key from a dictionary.\n",
    "\n",
    "8) Write a Python program to get the largest number from a list"
   ]
  },
  {
   "cell_type": "markdown",
   "id": "1cff258b",
   "metadata": {},
   "source": [
    "**Q1: Print all elements of a list using for loop.**\n"
   ]
  },
  {
   "cell_type": "code",
   "execution_count": 1,
   "id": "b6cf0a46",
   "metadata": {},
   "outputs": [
    {
     "name": "stdout",
     "output_type": "stream",
     "text": [
      "Honda\n",
      "Toyota\n",
      "Kia\n",
      "Mercedes\n",
      "Hyundai\n",
      "Volvo\n",
      "Ford\n",
      "BMW\n"
     ]
    }
   ],
   "source": [
    "Cars = ['Honda', 'Toyota', 'Kia', 'Mercedes', 'Hyundai', 'Volvo', 'Ford', 'BMW']\n",
    "for x in Cars:\n",
    "    print(x)"
   ]
  },
  {
   "cell_type": "markdown",
   "id": "c3445cba",
   "metadata": {},
   "source": [
    "**Q2: Using range(1,101), make two list, one containing all even numbers and other containing all odd numbers.**"
   ]
  },
  {
   "cell_type": "code",
   "execution_count": 2,
   "id": "ef835862",
   "metadata": {
    "scrolled": true
   },
   "outputs": [
    {
     "name": "stdout",
     "output_type": "stream",
     "text": [
      "[2, 4, 6, 8, 10, 12, 14, 16, 18, 20, 22, 24, 26, 28, 30, 32, 34, 36, 38, 40, 42, 44, 46, 48, 50, 52, 54, 56, 58, 60, 62, 64, 66, 68, 70, 72, 74, 76, 78, 80, 82, 84, 86, 88, 90, 92, 94, 96, 98, 100]\n",
      "[1, 3, 5, 7, 9, 11, 13, 15, 17, 19, 21, 23, 25, 27, 29, 31, 33, 35, 37, 39, 41, 43, 45, 47, 49, 51, 53, 55, 57, 59, 61, 63, 65, 67, 69, 71, 73, 75, 77, 79, 81, 83, 85, 87, 89, 91, 93, 95, 97, 99]\n"
     ]
    }
   ],
   "source": [
    "even_numbers = []\n",
    "odd_numbers = []\n",
    "for x in range(1, 101):\n",
    "  if x%2 == 0:\n",
    "     odd_numbers.append(x)\n",
    "  else:\n",
    "     even_numbers.append(x)\n",
    "print(odd_numbers)\n",
    "\n",
    "print(even_numbers)"
   ]
  },
  {
   "cell_type": "markdown",
   "id": "6341f107",
   "metadata": {},
   "source": [
    "**Q3: A company decided to give bonus of 5% to employee if his/her year of service is more than 5\n",
    "years. Ask user for their salary and year of service and print the net bonus amount.**"
   ]
  },
  {
   "cell_type": "code",
   "execution_count": 1,
   "id": "099d8a3a",
   "metadata": {
    "scrolled": true
   },
   "outputs": [
    {
     "name": "stdout",
     "output_type": "stream",
     "text": [
      "enter your year of service4\n",
      "enter your salary200000\n",
      "200000\n"
     ]
    }
   ],
   "source": [
    "year_service = int(input(\"enter your year of service\"))\n",
    "salary=int(input(\"enter your salary\"))\n",
    "if year_service > 5:\n",
    "    net_bonus = salary*0.05\n",
    "    print (net_bonus)\n",
    "else:\n",
    "    print (salary)"
   ]
  },
  {
   "cell_type": "markdown",
   "id": "515dadfa",
   "metadata": {},
   "source": [
    "**Q4: Take input of age of 3 people by user and determine oldest and youngest among them.**"
   ]
  },
  {
   "cell_type": "code",
   "execution_count": 5,
   "id": "90741a71",
   "metadata": {},
   "outputs": [
    {
     "name": "stdout",
     "output_type": "stream",
     "text": [
      "Enter first age\n",
      "35\n",
      "Enter second age\n",
      "42\n",
      "third age\n",
      "16\n",
      "Oldest is 42\n"
     ]
    }
   ],
   "source": [
    "print (\"Enter first age\")\n",
    "first = input()\n",
    "print (\"Enter second age\")\n",
    "second = input()\n",
    "print (\"third age\")\n",
    "third = input()\n",
    "\n",
    "if first >= second and first >= third:\n",
    "  print (\"Oldest is\",first)\n",
    "elif second >= first and second >= third:\n",
    "  print (\"Oldest is\",second)\n",
    "elif third >= first and third >= second:\n",
    "  print (\"Oldest is\",third)\n",
    "else:\n",
    "  print (\"All are equal\")\n"
   ]
  },
  {
   "cell_type": "markdown",
   "id": "c4452a9d",
   "metadata": {},
   "source": [
    "**Q5: A school has following rules for grading system:**"
   ]
  },
  {
   "cell_type": "code",
   "execution_count": 2,
   "id": "23d1035a",
   "metadata": {},
   "outputs": [
    {
     "name": "stdout",
     "output_type": "stream",
     "text": [
      "Enter marks90\n",
      "A\n"
     ]
    }
   ],
   "source": [
    "score = input(\"Enter marks\")\n",
    "score = int(score)\n",
    "if score < 25:  \n",
    "   print(\"F\")\n",
    "elif score >= 25 and score < 45:  \n",
    "   print(\"E\")\n",
    "elif score >= 45 and score < 50:  \n",
    "   print(\"D\")\n",
    "elif score >= 50 and score < 60:  \n",
    "   print(\"C\")\n",
    "elif score >= 60 and score < 80:  \n",
    "   print(\"B\")\n",
    "else:  \n",
    "   print(\"A\")"
   ]
  },
  {
   "cell_type": "markdown",
   "id": "794e80f8",
   "metadata": {},
   "source": [
    "**Q6: Write a Python script to merge two Python dictionaries**"
   ]
  },
  {
   "cell_type": "code",
   "execution_count": 20,
   "id": "78503c74",
   "metadata": {},
   "outputs": [
    {
     "name": "stdout",
     "output_type": "stream",
     "text": [
      "{'Nigera': 'Abuja', 'Ghana': 'Accra', 'Rwanda': 'Kigali', 'Kenya': 'Nairobi', 'Mali': 'Bamako'}\n"
     ]
    }
   ],
   "source": [
    "dict_1={\"Nigera\":\"Abuja\",\"Ghana\":\"Accra\",\"Rwanda\":\"Kigali\",\"Kenya\":\"Nairobi\"}\n",
    "dict_2={\"Mali\":\"Bamako\"}\n",
    "\n",
    "dict_1.update(dict_2)\n",
    "print(dict_1)"
   ]
  },
  {
   "cell_type": "markdown",
   "id": "775f51e6",
   "metadata": {},
   "source": [
    "**Q7: Write a Python program to remove a key from a dictionary**"
   ]
  },
  {
   "cell_type": "code",
   "execution_count": 17,
   "id": "5b2d2866",
   "metadata": {},
   "outputs": [
    {
     "name": "stdout",
     "output_type": "stream",
     "text": [
      "{'Glory': 1, 'Janet': 2, 'Dumebi': 3, 'Anita': 4, 'Mary': 5, 'Celina': 6, 'Queen': 7}\n",
      "{'Glory': 1, 'Janet': 2, 'Anita': 4, 'Mary': 5, 'Celina': 6, 'Queen': 7}\n"
     ]
    }
   ],
   "source": [
    "dict1={'Glory':1, 'Janet':2, 'Dumebi':3, 'Anita':4, 'Mary':5 , 'Celina':6, 'Queen':7}\n",
    "print(dict1)\n",
    "del dict1['Dumebi']\n",
    "print(dict1)"
   ]
  },
  {
   "cell_type": "markdown",
   "id": "2baf9f81",
   "metadata": {},
   "source": [
    "**Q8: Write a Python program to get the largest number from a list**"
   ]
  },
  {
   "cell_type": "code",
   "execution_count": 6,
   "id": "643fa1ec",
   "metadata": {},
   "outputs": [
    {
     "name": "stdout",
     "output_type": "stream",
     "text": [
      "15\n"
     ]
    }
   ],
   "source": [
    "def max_num_in_list (list):\n",
    "    max = list[0]\n",
    "    for a in list:\n",
    "        if a < max:\n",
    "            max = a\n",
    "            return max\n",
    "print(max_num_in_list([20,15,8,8,9,11,24,63,30]))"
   ]
  },
  {
   "cell_type": "code",
   "execution_count": null,
   "id": "6f286ed9",
   "metadata": {},
   "outputs": [],
   "source": []
  }
 ],
 "metadata": {
  "kernelspec": {
   "display_name": "Python 3 (ipykernel)",
   "language": "python",
   "name": "python3"
  },
  "language_info": {
   "codemirror_mode": {
    "name": "ipython",
    "version": 3
   },
   "file_extension": ".py",
   "mimetype": "text/x-python",
   "name": "python",
   "nbconvert_exporter": "python",
   "pygments_lexer": "ipython3",
   "version": "3.9.12"
  }
 },
 "nbformat": 4,
 "nbformat_minor": 5
}
